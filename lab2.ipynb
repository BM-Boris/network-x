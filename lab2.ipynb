{
  "cells": [
    {
      "cell_type": "markdown",
      "metadata": {
        "id": "WD2dTTfv-Db8"
      },
      "source": [
        "## 1. Классификация вершин (10 баллов) \n",
        "\n",
        "Будем решать задачу предсказания влиятельности вершин как задачу классификации. Разобьем отрезок $\\left [ s_{i}^{min},s_{i}^{max}\\right ]$ на $k$ одинаковых отрезков, и разметим вершины, чьи значения $s_{i}$ лежит в $\\left[s_i^{(j-1)},s_i^{(j)} \\right)$, $j = 1, 2 \\dots k$, меткой $j$, т.е. значение класса $l_i$ для $i$-ой вершины определяется: \n",
        "\n",
        "$$\n",
        "l_i=\\left [k \\frac{s_i-s_i^{min}}{s_i^{max}-s_i^{min}}\\right]. \n",
        "$$\n",
        "\n",
        "Для k=2 задача превращается в задачу бинарной классификации. \n",
        "\n",
        "1. Вычислите различные структурные признаки вершин: центральности, кластеризацию, k-core\n",
        "\n",
        "2.  Исследуйте корреляцию между признаками и целевой переменой \n",
        "\n",
        "3. Разделите выборку на обучающую и тестовую, постройте модели классификации (бинарной), выведите метрики качества, подберите оптимальные гиперпараметры\n",
        "\n",
        "4. Проанализируйте важность признаков "
      ]
    },
    {
      "cell_type": "code",
      "execution_count": null,
      "metadata": {
        "id": "L7YMs-RinD3Z"
      },
      "outputs": [],
      "source": [
        "import networkx as nx\n",
        "import random\n",
        "import pandas as pd\n",
        "import numpy as np\n",
        "import matplotlib.pyplot as plt"
      ]
    },
    {
      "cell_type": "markdown",
      "metadata": {
        "id": "aHozOeLpnD3a"
      },
      "source": [
        "### #1"
      ]
    },
    {
      "cell_type": "code",
      "execution_count": null,
      "metadata": {
        "id": "AVASwhmInD3b",
        "outputId": "2aa2932b-8b11-47e4-95a1-441fd08762e8"
      },
      "outputs": [
        {
          "name": "stdout",
          "output_type": "stream",
          "text": [
            "Nodes: 4158\n",
            "Edges: 13422\n",
            "Density: 0.0015530402828935425\n"
          ]
        }
      ],
      "source": [
        "G=nx.read_edgelist('ca-GrQc.mtx') \n",
        "print('Nodes:',G.number_of_nodes()) \n",
        "print('Edges:',G.number_of_edges())\n",
        "print('Density:',nx.density(G)) "
      ]
    },
    {
      "cell_type": "code",
      "execution_count": null,
      "metadata": {
        "id": "UagQ_h0snD3d",
        "outputId": "10da737b-7772-467f-af3b-8ea0dc1ad3d3"
      },
      "outputs": [
        {
          "data": {
            "text/html": [
              "<div>\n",
              "<style scoped>\n",
              "    .dataframe tbody tr th:only-of-type {\n",
              "        vertical-align: middle;\n",
              "    }\n",
              "\n",
              "    .dataframe tbody tr th {\n",
              "        vertical-align: top;\n",
              "    }\n",
              "\n",
              "    .dataframe thead th {\n",
              "        text-align: right;\n",
              "    }\n",
              "</style>\n",
              "<table border=\"1\" class=\"dataframe\">\n",
              "  <thead>\n",
              "    <tr style=\"text-align: right;\">\n",
              "      <th></th>\n",
              "      <th>node</th>\n",
              "      <th>target</th>\n",
              "    </tr>\n",
              "  </thead>\n",
              "  <tbody>\n",
              "    <tr>\n",
              "      <th>0</th>\n",
              "      <td>19</td>\n",
              "      <td>1.0</td>\n",
              "    </tr>\n",
              "    <tr>\n",
              "      <th>1</th>\n",
              "      <td>1</td>\n",
              "      <td>1.0</td>\n",
              "    </tr>\n",
              "    <tr>\n",
              "      <th>2</th>\n",
              "      <td>1751</td>\n",
              "      <td>1.0</td>\n",
              "    </tr>\n",
              "    <tr>\n",
              "      <th>3</th>\n",
              "      <td>2408</td>\n",
              "      <td>0.0</td>\n",
              "    </tr>\n",
              "    <tr>\n",
              "      <th>4</th>\n",
              "      <td>3078</td>\n",
              "      <td>1.0</td>\n",
              "    </tr>\n",
              "    <tr>\n",
              "      <th>...</th>\n",
              "      <td>...</td>\n",
              "      <td>...</td>\n",
              "    </tr>\n",
              "    <tr>\n",
              "      <th>4153</th>\n",
              "      <td>3858</td>\n",
              "      <td>1.0</td>\n",
              "    </tr>\n",
              "    <tr>\n",
              "      <th>4154</th>\n",
              "      <td>3859</td>\n",
              "      <td>1.0</td>\n",
              "    </tr>\n",
              "    <tr>\n",
              "      <th>4155</th>\n",
              "      <td>4019</td>\n",
              "      <td>1.0</td>\n",
              "    </tr>\n",
              "    <tr>\n",
              "      <th>4156</th>\n",
              "      <td>4124</td>\n",
              "      <td>0.0</td>\n",
              "    </tr>\n",
              "    <tr>\n",
              "      <th>4157</th>\n",
              "      <td>3975</td>\n",
              "      <td>1.0</td>\n",
              "    </tr>\n",
              "  </tbody>\n",
              "</table>\n",
              "<p>4158 rows × 2 columns</p>\n",
              "</div>"
            ],
            "text/plain": [
              "      node  target\n",
              "0       19     1.0\n",
              "1        1     1.0\n",
              "2     1751     1.0\n",
              "3     2408     0.0\n",
              "4     3078     1.0\n",
              "...    ...     ...\n",
              "4153  3858     1.0\n",
              "4154  3859     1.0\n",
              "4155  4019     1.0\n",
              "4156  4124     0.0\n",
              "4157  3975     1.0\n",
              "\n",
              "[4158 rows x 2 columns]"
            ]
          },
          "execution_count": 26,
          "metadata": {},
          "output_type": "execute_result"
        }
      ],
      "source": [
        "df = pd.read_csv('spreading_data_ca-GrQc.csv')\n",
        "k=2 \n",
        "s=list(df['spreading ability'])\n",
        "l=[]\n",
        "for v in s: \n",
        "    t=k*(v-df['spreading ability'].min())//(df['spreading ability'].max()-df['spreading ability'].min())\n",
        "    if (t==k):\n",
        "        t=k-1\n",
        "    l.append(t)\n",
        "\n",
        "df['target'] = l\n",
        "df = df.drop('spreading ability', axis=1)\n",
        "df"
      ]
    },
    {
      "cell_type": "code",
      "execution_count": null,
      "metadata": {
        "id": "23eEI6aZnD3f"
      },
      "outputs": [],
      "source": [
        "df['clust'] = (nx.clustering(G).values())\n",
        "df['dcent'] = nx.degree_centrality(G).values()\n",
        "df['ecent'] = nx.eigenvector_centrality(G).values()\n",
        "df['ccent'] = nx.closeness_centrality(G).values()\n",
        "df['bcent'] = nx.betweenness_centrality(G).values()"
      ]
    },
    {
      "cell_type": "code",
      "execution_count": null,
      "metadata": {
        "id": "n-BGkCmXnD3i"
      },
      "outputs": [],
      "source": [
        "df = df.drop(['node'],axis=1)"
      ]
    },
    {
      "cell_type": "code",
      "execution_count": null,
      "metadata": {
        "id": "N2hF7ELmnD3i",
        "outputId": "67215579-b8db-4f22-ace3-a24b8986314b"
      },
      "outputs": [
        {
          "data": {
            "text/html": [
              "<div>\n",
              "<style scoped>\n",
              "    .dataframe tbody tr th:only-of-type {\n",
              "        vertical-align: middle;\n",
              "    }\n",
              "\n",
              "    .dataframe tbody tr th {\n",
              "        vertical-align: top;\n",
              "    }\n",
              "\n",
              "    .dataframe thead th {\n",
              "        text-align: right;\n",
              "    }\n",
              "</style>\n",
              "<table border=\"1\" class=\"dataframe\">\n",
              "  <thead>\n",
              "    <tr style=\"text-align: right;\">\n",
              "      <th></th>\n",
              "      <th>target</th>\n",
              "      <th>clust</th>\n",
              "      <th>dcent</th>\n",
              "      <th>ecent</th>\n",
              "      <th>ccent</th>\n",
              "      <th>bcent</th>\n",
              "    </tr>\n",
              "  </thead>\n",
              "  <tbody>\n",
              "    <tr>\n",
              "      <th>0</th>\n",
              "      <td>1.0</td>\n",
              "      <td>0.500000</td>\n",
              "      <td>0.000962</td>\n",
              "      <td>1.978526e-07</td>\n",
              "      <td>0.184101</td>\n",
              "      <td>0.002893</td>\n",
              "    </tr>\n",
              "    <tr>\n",
              "      <th>1</th>\n",
              "      <td>1.0</td>\n",
              "      <td>0.333333</td>\n",
              "      <td>0.001443</td>\n",
              "      <td>1.930278e-08</td>\n",
              "      <td>0.159047</td>\n",
              "      <td>0.002290</td>\n",
              "    </tr>\n",
              "    <tr>\n",
              "      <th>2</th>\n",
              "      <td>1.0</td>\n",
              "      <td>1.000000</td>\n",
              "      <td>0.000722</td>\n",
              "      <td>1.893130e-08</td>\n",
              "      <td>0.158980</td>\n",
              "      <td>0.000000</td>\n",
              "    </tr>\n",
              "    <tr>\n",
              "      <th>3</th>\n",
              "      <td>0.0</td>\n",
              "      <td>0.400000</td>\n",
              "      <td>0.001203</td>\n",
              "      <td>5.769050e-07</td>\n",
              "      <td>0.171225</td>\n",
              "      <td>0.001707</td>\n",
              "    </tr>\n",
              "    <tr>\n",
              "      <th>4</th>\n",
              "      <td>1.0</td>\n",
              "      <td>0.333333</td>\n",
              "      <td>0.000722</td>\n",
              "      <td>1.450752e-08</td>\n",
              "      <td>0.146260</td>\n",
              "      <td>0.000481</td>\n",
              "    </tr>\n",
              "    <tr>\n",
              "      <th>...</th>\n",
              "      <td>...</td>\n",
              "      <td>...</td>\n",
              "      <td>...</td>\n",
              "      <td>...</td>\n",
              "      <td>...</td>\n",
              "      <td>...</td>\n",
              "    </tr>\n",
              "    <tr>\n",
              "      <th>4153</th>\n",
              "      <td>1.0</td>\n",
              "      <td>0.000000</td>\n",
              "      <td>0.000241</td>\n",
              "      <td>2.516598e-08</td>\n",
              "      <td>0.147349</td>\n",
              "      <td>0.000000</td>\n",
              "    </tr>\n",
              "    <tr>\n",
              "      <th>4154</th>\n",
              "      <td>1.0</td>\n",
              "      <td>1.000000</td>\n",
              "      <td>0.000481</td>\n",
              "      <td>6.328154e-07</td>\n",
              "      <td>0.180261</td>\n",
              "      <td>0.000000</td>\n",
              "    </tr>\n",
              "    <tr>\n",
              "      <th>4155</th>\n",
              "      <td>1.0</td>\n",
              "      <td>0.000000</td>\n",
              "      <td>0.000241</td>\n",
              "      <td>9.752772e-07</td>\n",
              "      <td>0.168655</td>\n",
              "      <td>0.000000</td>\n",
              "    </tr>\n",
              "    <tr>\n",
              "      <th>4156</th>\n",
              "      <td>0.0</td>\n",
              "      <td>0.000000</td>\n",
              "      <td>0.000241</td>\n",
              "      <td>2.715108e-08</td>\n",
              "      <td>0.150550</td>\n",
              "      <td>0.000000</td>\n",
              "    </tr>\n",
              "    <tr>\n",
              "      <th>4157</th>\n",
              "      <td>1.0</td>\n",
              "      <td>0.000000</td>\n",
              "      <td>0.000241</td>\n",
              "      <td>1.851009e-05</td>\n",
              "      <td>0.152355</td>\n",
              "      <td>0.000000</td>\n",
              "    </tr>\n",
              "  </tbody>\n",
              "</table>\n",
              "<p>4158 rows × 6 columns</p>\n",
              "</div>"
            ],
            "text/plain": [
              "      target     clust     dcent         ecent     ccent     bcent\n",
              "0        1.0  0.500000  0.000962  1.978526e-07  0.184101  0.002893\n",
              "1        1.0  0.333333  0.001443  1.930278e-08  0.159047  0.002290\n",
              "2        1.0  1.000000  0.000722  1.893130e-08  0.158980  0.000000\n",
              "3        0.0  0.400000  0.001203  5.769050e-07  0.171225  0.001707\n",
              "4        1.0  0.333333  0.000722  1.450752e-08  0.146260  0.000481\n",
              "...      ...       ...       ...           ...       ...       ...\n",
              "4153     1.0  0.000000  0.000241  2.516598e-08  0.147349  0.000000\n",
              "4154     1.0  1.000000  0.000481  6.328154e-07  0.180261  0.000000\n",
              "4155     1.0  0.000000  0.000241  9.752772e-07  0.168655  0.000000\n",
              "4156     0.0  0.000000  0.000241  2.715108e-08  0.150550  0.000000\n",
              "4157     1.0  0.000000  0.000241  1.851009e-05  0.152355  0.000000\n",
              "\n",
              "[4158 rows x 6 columns]"
            ]
          },
          "execution_count": 29,
          "metadata": {},
          "output_type": "execute_result"
        }
      ],
      "source": [
        "df"
      ]
    },
    {
      "cell_type": "markdown",
      "metadata": {
        "id": "LtIcUPI7nD3i"
      },
      "source": [
        "### #2"
      ]
    },
    {
      "cell_type": "code",
      "execution_count": null,
      "metadata": {
        "id": "3p7nZMOOnD3j",
        "outputId": "a2ee675e-796a-46cf-8422-c995e81a2bc5"
      },
      "outputs": [
        {
          "data": {
            "text/html": [
              "<div>\n",
              "<style scoped>\n",
              "    .dataframe tbody tr th:only-of-type {\n",
              "        vertical-align: middle;\n",
              "    }\n",
              "\n",
              "    .dataframe tbody tr th {\n",
              "        vertical-align: top;\n",
              "    }\n",
              "\n",
              "    .dataframe thead th {\n",
              "        text-align: right;\n",
              "    }\n",
              "</style>\n",
              "<table border=\"1\" class=\"dataframe\">\n",
              "  <thead>\n",
              "    <tr style=\"text-align: right;\">\n",
              "      <th></th>\n",
              "      <th>target</th>\n",
              "      <th>clust</th>\n",
              "      <th>dcent</th>\n",
              "      <th>ecent</th>\n",
              "      <th>ccent</th>\n",
              "      <th>bcent</th>\n",
              "    </tr>\n",
              "  </thead>\n",
              "  <tbody>\n",
              "    <tr>\n",
              "      <th>target</th>\n",
              "      <td>1.000000</td>\n",
              "      <td>-0.013769</td>\n",
              "      <td>0.005637</td>\n",
              "      <td>0.014643</td>\n",
              "      <td>0.012798</td>\n",
              "      <td>0.011934</td>\n",
              "    </tr>\n",
              "    <tr>\n",
              "      <th>clust</th>\n",
              "      <td>-0.013769</td>\n",
              "      <td>1.000000</td>\n",
              "      <td>0.051331</td>\n",
              "      <td>0.055931</td>\n",
              "      <td>-0.117046</td>\n",
              "      <td>-0.284538</td>\n",
              "    </tr>\n",
              "    <tr>\n",
              "      <th>dcent</th>\n",
              "      <td>0.005637</td>\n",
              "      <td>0.051331</td>\n",
              "      <td>1.000000</td>\n",
              "      <td>0.600507</td>\n",
              "      <td>0.435221</td>\n",
              "      <td>0.488306</td>\n",
              "    </tr>\n",
              "    <tr>\n",
              "      <th>ecent</th>\n",
              "      <td>0.014643</td>\n",
              "      <td>0.055931</td>\n",
              "      <td>0.600507</td>\n",
              "      <td>1.000000</td>\n",
              "      <td>0.275792</td>\n",
              "      <td>0.135088</td>\n",
              "    </tr>\n",
              "    <tr>\n",
              "      <th>ccent</th>\n",
              "      <td>0.012798</td>\n",
              "      <td>-0.117046</td>\n",
              "      <td>0.435221</td>\n",
              "      <td>0.275792</td>\n",
              "      <td>1.000000</td>\n",
              "      <td>0.473812</td>\n",
              "    </tr>\n",
              "    <tr>\n",
              "      <th>bcent</th>\n",
              "      <td>0.011934</td>\n",
              "      <td>-0.284538</td>\n",
              "      <td>0.488306</td>\n",
              "      <td>0.135088</td>\n",
              "      <td>0.473812</td>\n",
              "      <td>1.000000</td>\n",
              "    </tr>\n",
              "  </tbody>\n",
              "</table>\n",
              "</div>"
            ],
            "text/plain": [
              "          target     clust     dcent     ecent     ccent     bcent\n",
              "target  1.000000 -0.013769  0.005637  0.014643  0.012798  0.011934\n",
              "clust  -0.013769  1.000000  0.051331  0.055931 -0.117046 -0.284538\n",
              "dcent   0.005637  0.051331  1.000000  0.600507  0.435221  0.488306\n",
              "ecent   0.014643  0.055931  0.600507  1.000000  0.275792  0.135088\n",
              "ccent   0.012798 -0.117046  0.435221  0.275792  1.000000  0.473812\n",
              "bcent   0.011934 -0.284538  0.488306  0.135088  0.473812  1.000000"
            ]
          },
          "execution_count": 31,
          "metadata": {},
          "output_type": "execute_result"
        }
      ],
      "source": [
        "df.corr()"
      ]
    },
    {
      "cell_type": "markdown",
      "metadata": {
        "id": "S028Z5snnD3j"
      },
      "source": [
        "Корреляция между таргетом и признаками не наблюдается"
      ]
    },
    {
      "cell_type": "markdown",
      "metadata": {
        "id": "MwCbaPKynD3j"
      },
      "source": [
        "### #3"
      ]
    },
    {
      "cell_type": "code",
      "execution_count": null,
      "metadata": {
        "id": "UbzalDf9nD3k",
        "outputId": "87bf0679-dc84-4d2e-fcfb-541ce5f88b0c"
      },
      "outputs": [
        {
          "data": {
            "text/plain": [
              "((3118, 5), (1040, 5))"
            ]
          },
          "execution_count": 69,
          "metadata": {},
          "output_type": "execute_result"
        }
      ],
      "source": [
        "from sklearn.model_selection import train_test_split\n",
        "X_train, X_test, y_train, y_test = train_test_split(df.drop('target', axis=1), df['target'], test_size=0.25, random_state=13)\n",
        "X_train.shape, X_test.shape"
      ]
    },
    {
      "cell_type": "code",
      "execution_count": null,
      "metadata": {
        "id": "wD-UGPa6nD3k",
        "outputId": "0f0fc5a9-4bb1-4b8b-ea34-d7bed78ba7ab"
      },
      "outputs": [
        {
          "data": {
            "text/plain": [
              "Text(0, 0.5, 'True Positive Rate')"
            ]
          },
          "execution_count": 70,
          "metadata": {},
          "output_type": "execute_result"
        },
        {
          "data": {
            "image/png": "[encoded data removed]",
            "text/plain": [
              "<Figure size 432x288 with 1 Axes>"
            ]
          },
          "metadata": {
            "needs_background": "light"
          },
          "output_type": "display_data"
        }
      ],
      "source": [
        "from sklearn.model_selection import GridSearchCV\n",
        "\n",
        "parameters = {'learning_rate':('constant', 'optimal'), 'max_iter':[1000, 2000]}\n",
        "from sklearn.linear_model import SGDClassifier \n",
        "sdg = SGDClassifier(loss = 'log', eta0=0.1, alpha=0.1, random_state=13 )\n",
        "grid = GridSearchCV(sdg, parameters)\n",
        "grid.fit(X_train,y_train)\n",
        "grid.get_params()\n",
        "fpr, tpr, thresholds = roc_curve(y_test, grid.predict_proba(X_test)[:,1])\n",
        "auc(fpr, tpr)\n",
        "plt.plot(fpr, tpr, '--',label='LogModel')\n",
        "plt.plot([0, 1], [0, 1], color=\"navy\",  linestyle=\"--\")\n",
        "plt.legend()\n",
        "plt.xlabel(\"False Positive Rate\", fontsize=14)\n",
        "plt.ylabel(\"True Positive Rate\", fontsize=14)"
      ]
    },
    {
      "cell_type": "markdown",
      "metadata": {
        "id": "R-TIM9aSnD3l",
        "outputId": "3484695b-f954-454e-8142-99e59f4dde3e"
      },
      "source": [
        "Логистическая регрессия в данном случае показывает результат не лучше, чем если бы мы присваивали бы вершине класс случайно"
      ]
    },
    {
      "cell_type": "markdown",
      "metadata": {
        "id": "3hnF9Y5M-DtB"
      },
      "source": [
        "## 2. Предсказание связей (10 баллов)\n",
        "\n",
        "1. Разбейте сеть на обучающую и тестовую выборку, тестовая выборка должна содержать как связи, которые нужно предсказать, так и отсутствующие (выберите их случайным образом, чтобы тестовая выборка была сбалансирована). \n",
        "\n",
        "2. Сравните Roc-кривые для различных структурных характеристик ребер в сети. Какая лучше справляется с задачей предсказания связей по AUC ROC? \n",
        "\n",
        "3. Постройте модель классификации, используя структурные признаки, улучшилось ли качество предсказания?\n",
        "\n",
        "4. Постройте модель предскзания на основе вложения (используйте вложение сети с помощью Лапласиана или Node2vec, на выбор) Сравните качество предсказания для разных размерностей используемого пространства $d$. \n",
        "\n"
      ]
    },
    {
      "cell_type": "markdown",
      "metadata": {
        "id": "vAMvOU_QnD3m"
      },
      "source": [
        "### #1"
      ]
    },
    {
      "cell_type": "code",
      "execution_count": null,
      "metadata": {
        "id": "w2tv5DXCnD3n",
        "outputId": "a81823e3-49fe-4bc9-db4f-fa484a4f1ba0"
      },
      "outputs": [
        {
          "name": "stdout",
          "output_type": "stream",
          "text": [
            "Nodes: 1005\n",
            "Edges: 16706\n",
            "Density: 0.03311331787278746\n"
          ]
        }
      ],
      "source": [
        "G=nx.read_edgelist('email-Eu-core.txt', delimiter=' ', nodetype= int) \n",
        "G = G.to_undirected()\n",
        "print('Nodes:',G.number_of_nodes()) \n",
        "print('Edges:',G.number_of_edges())\n",
        "print('Density:',nx.density(G)) "
      ]
    },
    {
      "cell_type": "code",
      "execution_count": null,
      "metadata": {
        "id": "WL4-ZYOCjeZ0"
      },
      "outputs": [],
      "source": [
        "edge_subset = random.sample(G.edges(), int(0.25 * G.number_of_edges()))\n",
        "\n",
        "G_train = G.copy()\n",
        "G_train.remove_edges_from(edge_subset)"
      ]
    },
    {
      "cell_type": "markdown",
      "metadata": {
        "id": "hCJUO-n_jeZ1"
      },
      "source": [
        "### #2"
      ]
    },
    {
      "cell_type": "markdown",
      "metadata": {
        "id": "XofX4PcPjeZ1"
      },
      "source": [
        "Коэффициент Жаккара"
      ]
    },
    {
      "cell_type": "code",
      "execution_count": null,
      "metadata": {
        "id": "1cOAoFLUjeZ1"
      },
      "outputs": [],
      "source": [
        "prediction_jaccard = list(nx.jaccard_coefficient(G_train))\n",
        "scores, y = zip(*[(s, (u,v) in edge_subset) for (u,v,s) in prediction_jaccard]) "
      ]
    },
    {
      "cell_type": "code",
      "execution_count": null,
      "metadata": {
        "id": "JgYzkHr0jeZ1",
        "outputId": "7275d41a-1ad7-48dd-c4b2-c8ecc54cbc49"
      },
      "outputs": [
        {
          "data": {
            "text/plain": [
              "0.9239495756911261"
            ]
          },
          "execution_count": 76,
          "metadata": {},
          "output_type": "execute_result"
        }
      ],
      "source": [
        "fpr, tpr, thresholds = roc_curve(y, scores)\n",
        "auc(fpr, tpr)"
      ]
    },
    {
      "cell_type": "markdown",
      "metadata": {
        "id": "aRd9lGVTjeZ2"
      },
      "source": [
        "Коэффициент Адамика-Адара"
      ]
    },
    {
      "cell_type": "code",
      "execution_count": null,
      "metadata": {
        "id": "8pYG3nrXjeZ2"
      },
      "outputs": [],
      "source": [
        "prediction_adar = list(nx.adamic_adar_index(G_train))\n",
        "scoresad, yad = zip(*[(s, (u,v) in edge_subset) for (u,v,s) in prediction_adar]) "
      ]
    },
    {
      "cell_type": "code",
      "execution_count": null,
      "metadata": {
        "id": "jpDBKacDjeZ2",
        "outputId": "cba08911-d298-495f-eb86-999b3638bfc3"
      },
      "outputs": [
        {
          "data": {
            "text/plain": [
              "0.9390904942094045"
            ]
          },
          "execution_count": 78,
          "metadata": {},
          "output_type": "execute_result"
        }
      ],
      "source": [
        "ad, tad, thresholds = roc_curve(yad, scoresad)\n",
        "auc(ad, tad)"
      ]
    },
    {
      "cell_type": "markdown",
      "metadata": {
        "id": "5QawJ15tjeZ3"
      },
      "source": [
        "Коэффициент предпочтительного присоединения"
      ]
    },
    {
      "cell_type": "code",
      "execution_count": null,
      "metadata": {
        "id": "mf0djsOEjeZ3"
      },
      "outputs": [],
      "source": [
        "prediction_pref = list(nx.preferential_attachment(G_train))\n",
        "scorespref, ypref = zip(*[(s, (u,v) in edge_subset) for (u,v,s) in prediction_pref]) "
      ]
    },
    {
      "cell_type": "code",
      "execution_count": null,
      "metadata": {
        "id": "wUxZq5UJjeZ3",
        "outputId": "f7d837ab-43e2-4d29-c819-23fe1c46cc2d"
      },
      "outputs": [
        {
          "data": {
            "text/plain": [
              "0.8652338937830562"
            ]
          },
          "execution_count": 80,
          "metadata": {},
          "output_type": "execute_result"
        }
      ],
      "source": [
        "pref, tpref, thresholds = roc_curve(ypref, scorespref)\n",
        "auc(pref, tpref)"
      ]
    },
    {
      "cell_type": "code",
      "execution_count": null,
      "metadata": {
        "id": "GzlpeZDTjeZ3",
        "outputId": "a5b048fb-cbf7-4a45-87a9-fc49da7ee865"
      },
      "outputs": [
        {
          "data": {
            "text/plain": [
              "Text(0, 0.5, 'True Positive Rate')"
            ]
          },
          "execution_count": 81,
          "metadata": {},
          "output_type": "execute_result"
        },
        {
          "data": {
            "image/png": "[encoded data removed]",
            "text/plain": [
              "<Figure size 432x288 with 1 Axes>"
            ]
          },
          "metadata": {
            "needs_background": "light"
          },
          "output_type": "display_data"
        }
      ],
      "source": [
        "plt.plot(fpr, tpr, '--',label='Жаккар')\n",
        "plt.plot(ad, tad, '--', color=\"r\",label='Адамик-Адар')\n",
        "plt.plot(pref, tpref, '--', color=\"g\",label='Предпочтительное присоединение')\n",
        "plt.plot([0, 1], [0, 1], color=\"navy\",  linestyle=\"--\")\n",
        "plt.legend()\n",
        "plt.xlabel(\"False Positive Rate\", fontsize=14)\n",
        "plt.ylabel(\"True Positive Rate\", fontsize=14)"
      ]
    },
    {
      "cell_type": "markdown",
      "metadata": {
        "id": "zDIxH6thjeZ4"
      },
      "source": [
        "Лучший результат показывает метод Адамика-Адара"
      ]
    },
    {
      "cell_type": "markdown",
      "metadata": {
        "id": "a6PIESn2jeZ4"
      },
      "source": [
        "### #3"
      ]
    },
    {
      "cell_type": "code",
      "execution_count": null,
      "metadata": {
        "id": "SzPEgosHjeZ4"
      },
      "outputs": [],
      "source": [
        "from sklearn.linear_model import LogisticRegression"
      ]
    },
    {
      "cell_type": "code",
      "execution_count": null,
      "metadata": {
        "id": "km-OuZWbjeZ4",
        "outputId": "9cb8b8d3-7ce2-40d0-9c03-ea7989ed23da"
      },
      "outputs": [
        {
          "data": {
            "text/plain": [
              "0.9182628576583056"
            ]
          },
          "execution_count": 85,
          "metadata": {},
          "output_type": "execute_result"
        }
      ],
      "source": [
        "clf = LogisticRegression()\n",
        "X = list(zip(scores,scoresad,scorespref))\n",
        "clf.fit(X,y)\n",
        "fpr, tpr, thresholds = roc_curve(y, clf.predict_proba(X)[:,1])\n",
        "auc(fpr, tpr)"
      ]
    },
    {
      "cell_type": "code",
      "execution_count": null,
      "metadata": {
        "id": "aC150ILmjeZ4",
        "outputId": "e6c30cf2-55fc-457d-c83e-a9adf71a26dd"
      },
      "outputs": [
        {
          "data": {
            "text/plain": [
              "Text(0, 0.5, 'True Positive Rate')"
            ]
          },
          "execution_count": 86,
          "metadata": {},
          "output_type": "execute_result"
        },
        {
          "data": {
            "image/png": "[encoded data removed]",
            "text/plain": [
              "<Figure size 432x288 with 1 Axes>"
            ]
          },
          "metadata": {
            "needs_background": "light"
          },
          "output_type": "display_data"
        }
      ],
      "source": [
        "plt.plot(fpr, tpr, '--',label='LogModel')\n",
        "plt.plot([0, 1], [0, 1], color=\"navy\",  linestyle=\"--\")\n",
        "plt.legend()\n",
        "plt.xlabel(\"False Positive Rate\", fontsize=14)\n",
        "plt.ylabel(\"True Positive Rate\", fontsize=14)"
      ]
    },
    {
      "cell_type": "markdown",
      "metadata": {
        "id": "oigjcnOojeZ5"
      },
      "source": [
        "Логистическая модель с 3 структурными признаками показала результат близкий к коэффициенту Жаккара"
      ]
    },
    {
      "cell_type": "markdown",
      "metadata": {
        "id": "3xSmLmLyjeZ5"
      },
      "source": [
        "### #4"
      ]
    },
    {
      "cell_type": "code",
      "execution_count": null,
      "metadata": {
        "id": "vkvB1xnTjeZ5",
        "outputId": "41313bca-65c7-4193-9d08-a80ddd69735a"
      },
      "outputs": [
        {
          "name": "stderr",
          "output_type": "stream",
          "text": [
            "/Users/borisminasenko/opt/anaconda3/lib/python3.8/site-packages/sklearn/manifold/_spectral_embedding.py:236: UserWarning: Graph is not fully connected, spectral embedding may not work as expected.\n",
            "  warnings.warn(\"Graph is not fully connected, spectral embedding\"\n"
          ]
        },
        {
          "data": {
            "text/plain": [
              "[array([[-1.52005696e-04,  3.81955609e-03],\n",
              "        [-1.42025408e-03,  3.21497459e-03],\n",
              "        [-3.09242708e-03, -9.74815573e-03],\n",
              "        ...,\n",
              "        [-7.00637700e-19,  1.09743555e-18],\n",
              "        [-2.26569181e-03, -1.38952667e-03],\n",
              "        [-4.05738537e-03, -1.26436593e-02]]),\n",
              " array([[-1.52005696e-04,  3.81955609e-03, -4.56129664e-03],\n",
              "        [-1.42025408e-03,  3.21497459e-03, -4.84797830e-03],\n",
              "        [-3.09242708e-03, -9.74815573e-03,  8.69995643e-03],\n",
              "        ...,\n",
              "        [-4.85313730e-19,  1.12510875e-18, -6.03456315e-19],\n",
              "        [-2.26569181e-03, -1.38952667e-03, -2.75175108e-04],\n",
              "        [-4.05738537e-03, -1.26436593e-02,  1.18997020e-02]]),\n",
              " array([[-1.52005696e-04,  3.81955609e-03, -4.56129664e-03,\n",
              "          3.40511860e-03],\n",
              "        [-1.42025408e-03,  3.21497459e-03, -4.84797830e-03,\n",
              "          1.35741651e-03],\n",
              "        [-3.09242708e-03, -9.74815573e-03,  8.69995643e-03,\n",
              "          1.00326372e-02],\n",
              "        ...,\n",
              "        [-8.34374551e-19,  1.26596797e-18,  4.39838849e-21,\n",
              "         -1.40325891e-18],\n",
              "        [-2.26569181e-03, -1.38952667e-03, -2.75175108e-04,\n",
              "         -3.49895046e-03],\n",
              "        [-4.05738537e-03, -1.26436593e-02,  1.18997020e-02,\n",
              "          1.33155270e-02]]),\n",
              " array([[-1.52005696e-04,  3.81955609e-03, -4.56129664e-03,\n",
              "          3.40511860e-03, -3.21117523e-04],\n",
              "        [-1.42025408e-03,  3.21497459e-03, -4.84797830e-03,\n",
              "          1.35741651e-03,  1.97473169e-04],\n",
              "        [-3.09242708e-03, -9.74815573e-03,  8.69995643e-03,\n",
              "          1.00326372e-02, -7.58085991e-03],\n",
              "        ...,\n",
              "        [-1.06053120e-18,  5.95813211e-19, -1.50756517e-18,\n",
              "         -1.38801783e-18, -1.96312763e-18],\n",
              "        [-2.26569181e-03, -1.38952667e-03, -2.75175108e-04,\n",
              "         -3.49895046e-03, -5.79928101e-04],\n",
              "        [-4.05738537e-03, -1.26436593e-02,  1.18997020e-02,\n",
              "          1.33155270e-02, -1.55014149e-02]]),\n",
              " array([[-1.52005696e-04,  3.81955609e-03, -4.56129664e-03,\n",
              "          3.40511860e-03, -3.21117523e-04,  6.45480951e-03],\n",
              "        [-1.42025408e-03,  3.21497459e-03, -4.84797830e-03,\n",
              "          1.35741651e-03,  1.97473169e-04,  7.27780378e-03],\n",
              "        [-3.09242708e-03, -9.74815573e-03,  8.69995643e-03,\n",
              "          1.00326372e-02, -7.58085991e-03, -7.46493984e-03],\n",
              "        ...,\n",
              "        [-9.58753771e-19,  8.13345735e-19, -6.77077310e-19,\n",
              "         -9.60022158e-19, -1.34671921e-18, -9.86668979e-20],\n",
              "        [-2.26569181e-03, -1.38952667e-03, -2.75175108e-04,\n",
              "         -3.49895046e-03, -5.79928101e-04,  8.32513622e-03],\n",
              "        [-4.05738537e-03, -1.26436593e-02,  1.18997020e-02,\n",
              "          1.33155270e-02, -1.55014149e-02, -1.09804979e-02]]),\n",
              " array([[-1.52005696e-04,  3.81955609e-03, -4.56129664e-03, ...,\n",
              "         -3.21117523e-04,  6.45480951e-03, -2.78657038e-03],\n",
              "        [-1.42025408e-03,  3.21497459e-03, -4.84797830e-03, ...,\n",
              "          1.97473169e-04,  7.27780378e-03, -3.05338670e-03],\n",
              "        [-3.09242708e-03, -9.74815573e-03,  8.69995643e-03, ...,\n",
              "         -7.58085991e-03, -7.46493984e-03,  1.22081368e-03],\n",
              "        ...,\n",
              "        [-6.93791452e-19,  7.36124089e-19, -1.36834735e-18, ...,\n",
              "         -1.17382340e-18,  2.93098518e-19,  1.28876860e-18],\n",
              "        [-2.26569181e-03, -1.38952667e-03, -2.75175108e-04, ...,\n",
              "         -5.79928101e-04,  8.32513622e-03, -1.81072513e-04],\n",
              "        [-4.05738537e-03, -1.26436593e-02,  1.18997020e-02, ...,\n",
              "         -1.55014149e-02, -1.09804979e-02,  2.26990464e-03]]),\n",
              " array([[-1.52005696e-04,  3.81955609e-03, -4.56129664e-03, ...,\n",
              "          6.45480951e-03, -2.78657038e-03, -1.23500857e-03],\n",
              "        [-1.42025408e-03,  3.21497459e-03, -4.84797830e-03, ...,\n",
              "          7.27780378e-03, -3.05338670e-03,  2.30743457e-04],\n",
              "        [-3.09242708e-03, -9.74815573e-03,  8.69995643e-03, ...,\n",
              "         -7.46493984e-03,  1.22081368e-03,  6.73477283e-04],\n",
              "        ...,\n",
              "        [-1.58141618e-19,  8.87300615e-19, -1.11314264e-18, ...,\n",
              "          1.81016455e-18,  1.49939103e-18, -3.70255363e-19],\n",
              "        [-2.26569181e-03, -1.38952667e-03, -2.75175108e-04, ...,\n",
              "          8.32513622e-03, -1.81072513e-04,  3.10178539e-04],\n",
              "        [-4.05738537e-03, -1.26436593e-02,  1.18997020e-02, ...,\n",
              "         -1.09804979e-02,  2.26990464e-03,  2.34534459e-03]]),\n",
              " array([[-1.52005696e-04,  3.81955609e-03, -4.56129664e-03, ...,\n",
              "         -2.78657038e-03, -1.23500857e-03,  1.33315490e-03],\n",
              "        [-1.42025408e-03,  3.21497459e-03, -4.84797830e-03, ...,\n",
              "         -3.05338670e-03,  2.30743457e-04,  2.23891899e-03],\n",
              "        [-3.09242708e-03, -9.74815573e-03,  8.69995643e-03, ...,\n",
              "          1.22081368e-03,  6.73477283e-04, -1.23100648e-03],\n",
              "        ...,\n",
              "        [ 3.92200513e-20,  5.05935457e-19,  6.96783343e-19, ...,\n",
              "         -1.37981290e-19,  4.09778512e-19, -4.48142909e-19],\n",
              "        [-2.26569181e-03, -1.38952667e-03, -2.75175108e-04, ...,\n",
              "         -1.81072513e-04,  3.10178539e-04,  4.68714522e-04],\n",
              "        [-4.05738537e-03, -1.26436593e-02,  1.18997020e-02, ...,\n",
              "          2.26990464e-03,  2.34534459e-03, -2.14401283e-03]]),\n",
              " array([[-1.52005696e-04,  3.81955609e-03, -4.56129664e-03, ...,\n",
              "         -1.23500857e-03,  1.33315490e-03, -5.28884599e-03],\n",
              "        [-1.42025408e-03,  3.21497459e-03, -4.84797830e-03, ...,\n",
              "          2.30743457e-04,  2.23891899e-03, -6.01309155e-03],\n",
              "        [-3.09242708e-03, -9.74815573e-03,  8.69995643e-03, ...,\n",
              "          6.73477283e-04, -1.23100648e-03,  2.30553237e-03],\n",
              "        ...,\n",
              "        [-5.43594672e-19,  3.81099193e-19, -3.87863922e-20, ...,\n",
              "          1.22433196e-18,  8.11020811e-21,  5.37124262e-19],\n",
              "        [-2.26569181e-03, -1.38952667e-03, -2.75175108e-04, ...,\n",
              "          3.10178539e-04,  4.68714522e-04, -6.24602388e-03],\n",
              "        [-4.05738537e-03, -1.26436593e-02,  1.18997020e-02, ...,\n",
              "          2.34534459e-03, -2.14401283e-03,  2.84359015e-03]]),\n",
              " array([[-1.52005696e-04,  3.81955609e-03, -4.56129664e-03, ...,\n",
              "          1.33315490e-03, -5.28884599e-03, -2.18452104e-04],\n",
              "        [-1.42025408e-03,  3.21497459e-03, -4.84797830e-03, ...,\n",
              "          2.23891899e-03, -6.01309155e-03, -4.67870367e-05],\n",
              "        [-3.09242708e-03, -9.74815573e-03,  8.69995643e-03, ...,\n",
              "         -1.23100648e-03,  2.30553237e-03,  5.49194377e-04],\n",
              "        ...,\n",
              "        [-5.64753035e-19,  7.65374749e-19, -6.48775154e-19, ...,\n",
              "          1.33576641e-18,  1.13578219e-18, -5.40179862e-19],\n",
              "        [-2.26569181e-03, -1.38952667e-03, -2.75175108e-04, ...,\n",
              "          4.68714522e-04, -6.24602388e-03, -4.15755529e-04],\n",
              "        [-4.05738537e-03, -1.26436593e-02,  1.18997020e-02, ...,\n",
              "         -2.14401283e-03,  2.84359015e-03,  6.38885753e-04]]),\n",
              " array([[-1.52005696e-04,  3.81955609e-03, -4.56129664e-03, ...,\n",
              "         -5.28884599e-03, -2.18452104e-04, -6.02256431e-03],\n",
              "        [-1.42025408e-03,  3.21497459e-03, -4.84797830e-03, ...,\n",
              "         -6.01309155e-03, -4.67870367e-05, -4.90277051e-03],\n",
              "        [-3.09242708e-03, -9.74815573e-03,  8.69995643e-03, ...,\n",
              "          2.30553237e-03,  5.49194377e-04, -7.06075787e-03],\n",
              "        ...,\n",
              "        [-8.51990084e-19,  1.04941766e-18, -6.71368294e-20, ...,\n",
              "          2.04885817e-18,  3.46271133e-18,  6.70168683e-19],\n",
              "        [-2.26569181e-03, -1.38952667e-03, -2.75175108e-04, ...,\n",
              "         -6.24602388e-03, -4.15755529e-04,  1.49492736e-04],\n",
              "        [-4.05738537e-03, -1.26436593e-02,  1.18997020e-02, ...,\n",
              "          2.84359015e-03,  6.38885753e-04, -1.17341367e-02]]),\n",
              " array([[-1.52005696e-04,  3.81955609e-03, -4.56129664e-03, ...,\n",
              "         -2.18452104e-04, -6.02256431e-03, -1.53305902e-02],\n",
              "        [-1.42025408e-03,  3.21497459e-03, -4.84797830e-03, ...,\n",
              "         -4.67870367e-05, -4.90277051e-03, -7.97338218e-03],\n",
              "        [-3.09242708e-03, -9.74815573e-03,  8.69995643e-03, ...,\n",
              "          5.49194377e-04, -7.06075787e-03, -2.09535148e-03],\n",
              "        ...,\n",
              "        [-7.75248544e-19,  3.04798386e-19, -6.46720001e-19, ...,\n",
              "         -2.48917566e-22, -1.66261184e-18, -3.16470716e-18],\n",
              "        [-2.26569181e-03, -1.38952667e-03, -2.75175108e-04, ...,\n",
              "         -4.15755529e-04,  1.49492736e-04,  1.31154321e-02],\n",
              "        [-4.05738537e-03, -1.26436593e-02,  1.18997020e-02, ...,\n",
              "          6.38885753e-04, -1.17341367e-02, -2.41366145e-03]]),\n",
              " array([[-1.52005696e-04,  3.81955609e-03, -4.56129664e-03, ...,\n",
              "         -6.02256431e-03, -1.53305902e-02,  1.71689690e-02],\n",
              "        [-1.42025408e-03,  3.21497459e-03, -4.84797830e-03, ...,\n",
              "         -4.90277051e-03, -7.97338218e-03,  9.11513943e-03],\n",
              "        [-3.09242708e-03, -9.74815573e-03,  8.69995643e-03, ...,\n",
              "         -7.06075787e-03, -2.09535148e-03,  1.79303966e-03],\n",
              "        ...,\n",
              "        [-9.13532020e-19,  1.09607818e-19, -9.72604898e-19, ...,\n",
              "          6.22340014e-19, -1.75288375e-18, -1.69592837e-18],\n",
              "        [-2.26569181e-03, -1.38952667e-03, -2.75175108e-04, ...,\n",
              "          1.49492736e-04,  1.31154321e-02, -1.98342743e-02],\n",
              "        [-4.05738537e-03, -1.26436593e-02,  1.18997020e-02, ...,\n",
              "         -1.17341367e-02, -2.41366145e-03,  1.55209389e-03]]),\n",
              " array([[-1.52005696e-04,  3.81955609e-03, -4.56129664e-03, ...,\n",
              "         -1.53305902e-02,  1.71689690e-02,  3.73164435e-03],\n",
              "        [-1.42025408e-03,  3.21497459e-03, -4.84797830e-03, ...,\n",
              "         -7.97338218e-03,  9.11513943e-03,  1.50260397e-03],\n",
              "        [-3.09242708e-03, -9.74815573e-03,  8.69995643e-03, ...,\n",
              "         -2.09535148e-03,  1.79303966e-03, -9.66237058e-04],\n",
              "        ...,\n",
              "        [-8.01425751e-19,  9.37148222e-19, -1.12920418e-19, ...,\n",
              "         -3.22193223e-18,  1.88963359e-18,  4.00333937e-19],\n",
              "        [-2.26569181e-03, -1.38952667e-03, -2.75175108e-04, ...,\n",
              "          1.31154321e-02, -1.98342743e-02, -6.79793528e-03],\n",
              "        [-4.05738537e-03, -1.26436593e-02,  1.18997020e-02, ...,\n",
              "         -2.41366145e-03,  1.55209389e-03,  1.76166722e-04]]),\n",
              " array([[-1.52005696e-04,  3.81955609e-03, -4.56129664e-03, ...,\n",
              "          1.71689690e-02,  3.73164435e-03, -5.12149318e-03],\n",
              "        [-1.42025408e-03,  3.21497459e-03, -4.84797830e-03, ...,\n",
              "          9.11513943e-03,  1.50260397e-03, -3.15654135e-03],\n",
              "        [-3.09242708e-03, -9.74815573e-03,  8.69995643e-03, ...,\n",
              "          1.79303966e-03, -9.66237058e-04, -7.49922426e-04],\n",
              "        ...,\n",
              "        [-1.19076191e-18,  1.53816193e-18, -8.29665114e-19, ...,\n",
              "         -5.41446412e-18,  2.94719843e-19,  1.89217586e-19],\n",
              "        [-2.26569181e-03, -1.38952667e-03, -2.75175108e-04, ...,\n",
              "         -1.98342743e-02, -6.79793528e-03,  5.40517736e-03],\n",
              "        [-4.05738537e-03, -1.26436593e-02,  1.18997020e-02, ...,\n",
              "          1.55209389e-03,  1.76166722e-04, -1.49526608e-03]]),\n",
              " array([[-1.52005696e-04,  3.81955609e-03, -4.56129664e-03, ...,\n",
              "          3.73164435e-03, -5.12149318e-03, -7.75207419e-03],\n",
              "        [-1.42025408e-03,  3.21497459e-03, -4.84797830e-03, ...,\n",
              "          1.50260397e-03, -3.15654135e-03, -3.26434361e-04],\n",
              "        [-3.09242708e-03, -9.74815573e-03,  8.69995643e-03, ...,\n",
              "         -9.66237058e-04, -7.49922426e-04, -1.32278830e-03],\n",
              "        ...,\n",
              "        [ 5.73748887e-19,  5.78768547e-19,  3.61096496e-20, ...,\n",
              "         -3.26464193e-19,  2.71244207e-19,  1.59104500e-19],\n",
              "        [-2.26569181e-03, -1.38952667e-03, -2.75175108e-04, ...,\n",
              "         -6.79793528e-03,  5.40517736e-03,  1.15865628e-03],\n",
              "        [-4.05738537e-03, -1.26436593e-02,  1.18997020e-02, ...,\n",
              "          1.76166722e-04, -1.49526608e-03, -1.11012177e-03]]),\n",
              " array([[-1.52005696e-04,  3.81955609e-03, -4.56129664e-03, ...,\n",
              "         -5.12149318e-03, -7.75207419e-03, -2.48057063e-03],\n",
              "        [-1.42025408e-03,  3.21497459e-03, -4.84797830e-03, ...,\n",
              "         -3.15654135e-03, -3.26434361e-04, -1.07776542e-03],\n",
              "        [-3.09242708e-03, -9.74815573e-03,  8.69995643e-03, ...,\n",
              "         -7.49922426e-04, -1.32278830e-03, -9.74085823e-04],\n",
              "        ...,\n",
              "        [-6.36792376e-19,  3.63009620e-19, -9.50097519e-19, ...,\n",
              "         -4.09352905e-19, -3.37736563e-19, -1.61015301e-18],\n",
              "        [-2.26569181e-03, -1.38952667e-03, -2.75175108e-04, ...,\n",
              "          5.40517736e-03,  1.15865628e-03, -4.30959872e-03],\n",
              "        [-4.05738537e-03, -1.26436593e-02,  1.18997020e-02, ...,\n",
              "         -1.49526608e-03, -1.11012177e-03,  6.78074310e-04]]),\n",
              " array([[-1.52005696e-04,  3.81955609e-03, -4.56129664e-03, ...,\n",
              "         -7.75207419e-03, -2.48057063e-03, -5.28302755e-03],\n",
              "        [-1.42025408e-03,  3.21497459e-03, -4.84797830e-03, ...,\n",
              "         -3.26434361e-04, -1.07776542e-03, -2.47044216e-03],\n",
              "        [-3.09242708e-03, -9.74815573e-03,  8.69995643e-03, ...,\n",
              "         -1.32278830e-03, -9.74085823e-04,  1.18546619e-03],\n",
              "        ...,\n",
              "        [-1.30273775e-18,  6.61188655e-19,  8.38218473e-20, ...,\n",
              "         -1.13139559e-18, -1.59245358e-18, -1.89071396e-19],\n",
              "        [-2.26569181e-03, -1.38952667e-03, -2.75175108e-04, ...,\n",
              "          1.15865628e-03, -4.30959872e-03, -1.80074332e-02],\n",
              "        [-4.05738537e-03, -1.26436593e-02,  1.18997020e-02, ...,\n",
              "         -1.11012177e-03,  6.78074310e-04,  1.28028585e-03]]),\n",
              " array([[-1.52005696e-04,  3.81955609e-03, -4.56129664e-03, ...,\n",
              "         -2.48057063e-03, -5.28302755e-03, -3.65937941e-03],\n",
              "        [-1.42025408e-03,  3.21497459e-03, -4.84797830e-03, ...,\n",
              "         -1.07776542e-03, -2.47044216e-03,  5.73401376e-04],\n",
              "        [-3.09242708e-03, -9.74815573e-03,  8.69995643e-03, ...,\n",
              "         -9.74085823e-04,  1.18546619e-03, -5.28563743e-05],\n",
              "        ...,\n",
              "        [-5.17252913e-19,  8.74102948e-19, -2.44455159e-19, ...,\n",
              "         -1.30164512e-18, -4.84082990e-18,  3.09435406e-18],\n",
              "        [-2.26569181e-03, -1.38952667e-03, -2.75175108e-04, ...,\n",
              "         -4.30959872e-03, -1.80074332e-02,  2.99781817e-02],\n",
              "        [-4.05738537e-03, -1.26436593e-02,  1.18997020e-02, ...,\n",
              "          6.78074310e-04,  1.28028585e-03, -1.35380167e-03]]),\n",
              " array([[-1.52005696e-04,  3.81955609e-03, -4.56129664e-03, ...,\n",
              "         -5.28302755e-03, -3.65937941e-03, -4.53378667e-03],\n",
              "        [-1.42025408e-03,  3.21497459e-03, -4.84797830e-03, ...,\n",
              "         -2.47044216e-03,  5.73401376e-04, -2.30623444e-03],\n",
              "        [-3.09242708e-03, -9.74815573e-03,  8.69995643e-03, ...,\n",
              "          1.18546619e-03, -5.28563743e-05, -1.13425660e-04],\n",
              "        ...,\n",
              "        [-8.74984212e-19,  9.45786846e-19,  7.35310266e-19, ...,\n",
              "         -5.06951578e-18,  2.34936114e-18,  2.12045919e-19],\n",
              "        [-2.26569181e-03, -1.38952667e-03, -2.75175108e-04, ...,\n",
              "         -1.80074332e-02,  2.99781817e-02, -2.76125116e-02],\n",
              "        [-4.05738537e-03, -1.26436593e-02,  1.18997020e-02, ...,\n",
              "          1.28028585e-03, -1.35380167e-03, -4.62994243e-04]]),\n",
              " array([[-1.52005696e-04,  3.81955609e-03, -4.56129664e-03, ...,\n",
              "         -3.65937941e-03, -4.53378667e-03, -4.88601918e-03],\n",
              "        [-1.42025408e-03,  3.21497459e-03, -4.84797830e-03, ...,\n",
              "          5.73401376e-04, -2.30623444e-03, -2.73156940e-03],\n",
              "        [-3.09242708e-03, -9.74815573e-03,  8.69995643e-03, ...,\n",
              "         -5.28563743e-05, -1.13425660e-04, -4.90210120e-04],\n",
              "        ...,\n",
              "        [-1.15080951e-18,  1.27973836e-18,  6.76588217e-21, ...,\n",
              "          2.66479679e-18,  2.88570613e-19,  5.13695866e-19],\n",
              "        [-2.26569181e-03, -1.38952667e-03, -2.75175108e-04, ...,\n",
              "          2.99781817e-02, -2.76125116e-02, -3.69295774e-02],\n",
              "        [-4.05738537e-03, -1.26436593e-02,  1.18997020e-02, ...,\n",
              "         -1.35380167e-03, -4.62994243e-04, -1.47132759e-03]]),\n",
              " array([[-1.52005696e-04,  3.81955609e-03, -4.56129664e-03, ...,\n",
              "         -4.53378667e-03, -4.88601918e-03,  8.28758986e-04],\n",
              "        [-1.42025408e-03,  3.21497459e-03, -4.84797830e-03, ...,\n",
              "         -2.30623444e-03, -2.73156940e-03, -8.98576544e-04],\n",
              "        [-3.09242708e-03, -9.74815573e-03,  8.69995643e-03, ...,\n",
              "         -1.13425660e-04, -4.90210120e-04,  1.03523875e-02],\n",
              "        ...,\n",
              "        [-5.85581067e-22,  9.63935848e-19,  2.68870210e-19, ...,\n",
              "         -5.05839184e-18, -1.56404785e-19,  9.12531452e-22],\n",
              "        [-2.26569181e-03, -1.38952667e-03, -2.75175108e-04, ...,\n",
              "         -2.76125116e-02, -3.69295774e-02,  1.36596278e-03],\n",
              "        [-4.05738537e-03, -1.26436593e-02,  1.18997020e-02, ...,\n",
              "         -4.62994243e-04, -1.47132759e-03, -1.98593216e-02]]),\n",
              " array([[-1.52005696e-04,  3.81955609e-03, -4.56129664e-03, ...,\n",
              "         -4.88601918e-03,  8.28758986e-04, -6.70161730e-03],\n",
              "        [-1.42025408e-03,  3.21497459e-03, -4.84797830e-03, ...,\n",
              "         -2.73156940e-03, -8.98576544e-04, -4.50601296e-03],\n",
              "        [-3.09242708e-03, -9.74815573e-03,  8.69995643e-03, ...,\n",
              "         -4.90210120e-04,  1.03523875e-02,  1.20763772e-03],\n",
              "        ...,\n",
              "        [-6.72469676e-19,  6.61641397e-19, -1.68204015e-19, ...,\n",
              "          1.85176067e-19,  2.14080727e-18,  9.15753683e-19],\n",
              "        [-2.26569181e-03, -1.38952667e-03, -2.75175108e-04, ...,\n",
              "         -3.69295774e-02,  1.36596278e-03, -5.71099302e-03],\n",
              "        [-4.05738537e-03, -1.26436593e-02,  1.18997020e-02, ...,\n",
              "         -1.47132759e-03, -1.98593216e-02, -6.53688083e-03]]),\n",
              " array([[-1.52005696e-04,  3.81955609e-03, -4.56129664e-03, ...,\n",
              "          8.28758986e-04, -6.70161730e-03,  5.10089623e-03],\n",
              "        [-1.42025408e-03,  3.21497459e-03, -4.84797830e-03, ...,\n",
              "         -8.98576544e-04, -4.50601296e-03, -4.97654146e-03],\n",
              "        [-3.09242708e-03, -9.74815573e-03,  8.69995643e-03, ...,\n",
              "          1.03523875e-02,  1.20763772e-03, -1.09632936e-03],\n",
              "        ...,\n",
              "        [-2.13185140e-18,  1.04522673e-19,  1.09727454e-19, ...,\n",
              "          2.71761166e-19, -1.05357465e-18, -1.09473990e-19],\n",
              "        [-2.26569181e-03, -1.38952667e-03, -2.75175108e-04, ...,\n",
              "          1.36596278e-03, -5.71099302e-03,  2.47842429e-02],\n",
              "        [-4.05738537e-03, -1.26436593e-02,  1.18997020e-02, ...,\n",
              "         -1.98593216e-02, -6.53688083e-03,  4.34127667e-03]]),\n",
              " array([[-1.52005696e-04,  3.81955609e-03, -4.56129664e-03, ...,\n",
              "         -6.70161730e-03,  5.10089623e-03,  4.81221977e-03],\n",
              "        [-1.42025408e-03,  3.21497459e-03, -4.84797830e-03, ...,\n",
              "         -4.50601296e-03, -4.97654146e-03, -2.18909750e-04],\n",
              "        [-3.09242708e-03, -9.74815573e-03,  8.69995643e-03, ...,\n",
              "          1.20763772e-03, -1.09632936e-03, -2.11230131e-04],\n",
              "        ...,\n",
              "        [ 6.69891292e-19,  8.80575065e-19, -5.63765334e-19, ...,\n",
              "          1.27792186e-18,  1.33060659e-18, -4.88537842e-18],\n",
              "        [-2.26569181e-03, -1.38952667e-03, -2.75175108e-04, ...,\n",
              "         -5.71099302e-03,  2.47842429e-02,  2.30256701e-02],\n",
              "        [-4.05738537e-03, -1.26436593e-02,  1.18997020e-02, ...,\n",
              "         -6.53688083e-03,  4.34127667e-03,  5.21835950e-03]]),\n",
              " array([[-1.52005696e-04,  3.81955609e-03, -4.56129664e-03, ...,\n",
              "          5.10089623e-03,  4.81221977e-03,  8.29738598e-05],\n",
              "        [-1.42025408e-03,  3.21497459e-03, -4.84797830e-03, ...,\n",
              "         -4.97654146e-03, -2.18909750e-04,  1.90503721e-03],\n",
              "        [-3.09242708e-03, -9.74815573e-03,  8.69995643e-03, ...,\n",
              "         -1.09632936e-03, -2.11230131e-04, -2.89409222e-03],\n",
              "        ...,\n",
              "        [ 1.31909436e-19,  2.02244636e-19, -1.41415346e-18, ...,\n",
              "         -1.51498766e-18, -5.97030910e-18,  9.18787488e-19],\n",
              "        [-2.26569181e-03, -1.38952667e-03, -2.75175108e-04, ...,\n",
              "          2.47842429e-02,  2.30256701e-02, -1.70415114e-02],\n",
              "        [-4.05738537e-03, -1.26436593e-02,  1.18997020e-02, ...,\n",
              "          4.34127667e-03,  5.21835950e-03,  3.00305633e-03]]),\n",
              " array([[-1.52005696e-04,  3.81955609e-03, -4.56129664e-03, ...,\n",
              "          4.81221977e-03,  8.29738598e-05,  5.94434081e-04],\n",
              "        [-1.42025408e-03,  3.21497459e-03, -4.84797830e-03, ...,\n",
              "         -2.18909750e-04,  1.90503721e-03,  8.47253086e-04],\n",
              "        [-3.09242708e-03, -9.74815573e-03,  8.69995643e-03, ...,\n",
              "         -2.11230131e-04, -2.89409222e-03, -2.36744591e-04],\n",
              "        ...,\n",
              "        [ 1.43081528e-20,  5.68811979e-19,  7.44048893e-19, ...,\n",
              "         -5.53341042e-18, -1.48724247e-18, -3.78597091e-18],\n",
              "        [-2.26569181e-03, -1.38952667e-03, -2.75175108e-04, ...,\n",
              "          2.30256701e-02, -1.70415114e-02,  1.05183711e-02],\n",
              "        [-4.05738537e-03, -1.26436593e-02,  1.18997020e-02, ...,\n",
              "          5.21835950e-03,  3.00305633e-03,  6.44152887e-03]]),\n",
              " array([[-1.52005696e-04,  3.81955609e-03, -4.56129664e-03, ...,\n",
              "          8.29738598e-05,  5.94434081e-04,  1.08606200e-03],\n",
              "        [-1.42025408e-03,  3.21497459e-03, -4.84797830e-03, ...,\n",
              "          1.90503721e-03,  8.47253086e-04,  1.43336060e-04],\n",
              "        [-3.09242708e-03, -9.74815573e-03,  8.69995643e-03, ...,\n",
              "         -2.89409222e-03, -2.36744591e-04,  1.05273053e-03],\n",
              "        ...,\n",
              "        [-1.05286625e-18,  9.37610791e-19, -2.54096134e-19, ...,\n",
              "          1.39005488e-18, -1.72534226e-18, -3.73448953e-18],\n",
              "        [-2.26569181e-03, -1.38952667e-03, -2.75175108e-04, ...,\n",
              "         -1.70415114e-02,  1.05183711e-02,  1.06464091e-02],\n",
              "        [-4.05738537e-03, -1.26436593e-02,  1.18997020e-02, ...,\n",
              "          3.00305633e-03,  6.44152887e-03, -1.49821212e-02]]),\n",
              " array([[-1.52005696e-04,  3.81955609e-03, -4.56129664e-03, ...,\n",
              "          5.94434081e-04,  1.08606200e-03,  4.58491140e-03],\n",
              "        [-1.42025408e-03,  3.21497459e-03, -4.84797830e-03, ...,\n",
              "          8.47253086e-04,  1.43336060e-04, -2.12034538e-03],\n",
              "        [-3.09242708e-03, -9.74815573e-03,  8.69995643e-03, ...,\n",
              "         -2.36744591e-04,  1.05273053e-03,  8.16169910e-04],\n",
              "        ...,\n",
              "        [-4.51106304e-19,  6.43973183e-19, -1.76440327e-18, ...,\n",
              "         -1.61017303e-18, -2.18700964e-18, -2.11844713e-19],\n",
              "        [-2.26569181e-03, -1.38952667e-03, -2.75175108e-04, ...,\n",
              "          1.05183711e-02,  1.06464091e-02, -2.92807064e-05],\n",
              "        [-4.05738537e-03, -1.26436593e-02,  1.18997020e-02, ...,\n",
              "          6.44152887e-03, -1.49821212e-02,  5.85957583e-03]]),\n",
              " array([[-1.52005696e-04,  3.81955609e-03, -4.56129664e-03, ...,\n",
              "          1.08606200e-03,  4.58491140e-03,  4.30798396e-04],\n",
              "        [-1.42025408e-03,  3.21497459e-03, -4.84797830e-03, ...,\n",
              "          1.43336060e-04, -2.12034538e-03, -2.17020196e-03],\n",
              "        [-3.09242708e-03, -9.74815573e-03,  8.69995643e-03, ...,\n",
              "          1.05273053e-03,  8.16169910e-04,  2.73779015e-04],\n",
              "        ...,\n",
              "        [ 1.58765901e-19,  3.70430145e-19, -2.05318454e-19, ...,\n",
              "         -6.92257255e-18, -7.93074656e-19,  3.27424371e-18],\n",
              "        [-2.26569181e-03, -1.38952667e-03, -2.75175108e-04, ...,\n",
              "          1.06464091e-02, -2.92807064e-05,  7.96334415e-04],\n",
              "        [-4.05738537e-03, -1.26436593e-02,  1.18997020e-02, ...,\n",
              "         -1.49821212e-02,  5.85957583e-03,  2.74179508e-03]]),\n",
              " array([[-1.52005696e-04,  3.81955609e-03, -4.56129664e-03, ...,\n",
              "          4.58491140e-03,  4.30798396e-04, -4.67074080e-04],\n",
              "        [-1.42025408e-03,  3.21497459e-03, -4.84797830e-03, ...,\n",
              "         -2.12034538e-03, -2.17020196e-03, -5.07988474e-04],\n",
              "        [-3.09242708e-03, -9.74815573e-03,  8.69995643e-03, ...,\n",
              "          8.16169910e-04,  2.73779015e-04,  3.37672370e-03],\n",
              "        ...,\n",
              "        [-1.24883381e-18,  7.50492663e-19, -1.13461247e-18, ...,\n",
              "         -2.18417273e-19, -3.14014588e-18,  3.01436711e-19],\n",
              "        [-2.26569181e-03, -1.38952667e-03, -2.75175108e-04, ...,\n",
              "         -2.92807064e-05,  7.96334415e-04,  1.21911458e-02],\n",
              "        [-4.05738537e-03, -1.26436593e-02,  1.18997020e-02, ...,\n",
              "          5.85957583e-03,  2.74179508e-03, -3.82849671e-03]])]"
            ]
          },
          "execution_count": 104,
          "metadata": {},
          "output_type": "execute_result"
        }
      ],
      "source": [
        "from sklearn.manifold import spectral_embedding\n",
        "\n",
        "a=nx.to_numpy_array(G_train)\n",
        "emb = []\n",
        "for i in range(2,33):\n",
        "    emb.append(spectral_embedding(a, n_components=i,norm_laplacian=True, random_state=0))\n",
        "#X_transformed = emb.fit_transform(G_train)\n",
        "emb"
      ]
    },
    {
      "cell_type": "markdown",
      "metadata": {
        "id": "boks4bjP-D08"
      },
      "source": [
        "## 3. Задача кластеризации (10 баллов)\n",
        "\n",
        " Каждый сотдрудник относится к одному из департаментов, которые и являются истинными сообществами в сети. \n",
        "\n",
        "1. Постройте распределение размеров сообществ в сети, какова доля вершин в наибольшем сообществе? В наименьшем? \n",
        "\n",
        "2. Рассмотрим задачу поиска сообществ с помощью агломеративного метода, постройте зависимость метрик качества от числа задаваемых сообществ. \n",
        "Какое разбиение оказывается более близким к истинному? \n",
        "\n",
        "3. Выполните пункт 2) для алгоритма Гирвана-Ньюмана. Сравните качество агломеративного метода и Гирвана-Ньюмана. "
      ]
    },
    {
      "cell_type": "code",
      "execution_count": null,
      "metadata": {
        "id": "aMLvCzWHnD3u"
      },
      "outputs": [],
      "source": [
        "G = nx.read_edgelist('email-Eu-core.txt')\n",
        "df = pd.read_csv('email-Eu-core-department-labels.txt', sep=' ', names=['node', 'label'])"
      ]
    },
    {
      "cell_type": "markdown",
      "metadata": {
        "id": "VOPI15PAnD3u"
      },
      "source": [
        "### #1"
      ]
    },
    {
      "cell_type": "code",
      "execution_count": null,
      "metadata": {
        "id": "LGlmjJMJnD3u",
        "outputId": "aa6c7028-f634-412f-d2b4-9b554ce8d10d"
      },
      "outputs": [
        {
          "name": "stdout",
          "output_type": "stream",
          "text": [
            "Доля вершин в наибольшем сообществе 0.10845771144278607\n",
            "Доля вершин в наименьшем сообществе 0.0009950248756218905\n"
          ]
        },
        {
          "data": {
            "image/png": "[encoded data removed]",
            "text/plain": [
              "<Figure size 432x288 with 1 Axes>"
            ]
          },
          "metadata": {
            "needs_background": "light"
          },
          "output_type": "display_data"
        }
      ],
      "source": [
        "plt.bar(df['label'].value_counts().index.values, df['label'].value_counts())\n",
        "b = max(df['label'].value_counts()) / len(df)\n",
        "m = min(df['label'].value_counts()) / len(df)\n",
        "\n",
        "print(\"Доля вершин в наибольшем сообществе\", b)\n",
        "print(\"Доля вершин в наименьшем сообществе\", m)"
      ]
    },
    {
      "cell_type": "markdown",
      "metadata": {
        "id": "qFzHYTHtnD3v"
      },
      "source": [
        "### #2"
      ]
    },
    {
      "cell_type": "code",
      "execution_count": null,
      "metadata": {
        "id": "yCfVnSQEnD3v"
      },
      "outputs": [],
      "source": [
        "from sklearn.cluster import AgglomerativeClustering\n",
        "from sklearn.metrics.cluster import normalized_mutual_info_score\n",
        "\n",
        "def similarity_matrix(G, nodelist=None): # nodelist задает порядок строк в матрице\n",
        "    if (nodelist is None):\n",
        "        nodelist=list(G.nodes)\n",
        "\n",
        "    Smatrix=np.zeros((len(nodelist), len(nodelist)))\n",
        "\n",
        "    for i, node1 in enumerate(nodelist):\n",
        "        for j, node2 in enumerate(nodelist[i+1:], start = i+1):\n",
        "            Smatrix[i,j]=(len(set(G[node1]) & set(G[node2])) + int(G.has_edge(node1,node2)))/(np.min([len(G[node1]),len(G[node2])])\n",
        "                                                                                          +1-int(G.has_edge(node1,node2)))\n",
        "            Smatrix[j,i]=Smatrix[i,j]\n",
        "\n",
        "    return Smatrix"
      ]
    },
    {
      "cell_type": "code",
      "execution_count": null,
      "metadata": {
        "id": "3jTryfCNnD3v",
        "outputId": "b983f0ee-4c24-4d2c-c384-a41f2539aa6a"
      },
      "outputs": [
        {
          "name": "stderr",
          "output_type": "stream",
          "text": [
            "/Users/borisminasenko/opt/anaconda3/lib/python3.8/site-packages/sklearn/cluster/_agglomerative.py:492: ClusterWarning: scipy.cluster: The symmetric non-negative hollow observation matrix looks suspiciously like an uncondensed distance matrix\n",
            "  out = hierarchy.linkage(X, method=linkage, metric=affinity)\n",
            "/Users/borisminasenko/opt/anaconda3/lib/python3.8/site-packages/sklearn/cluster/_agglomerative.py:492: ClusterWarning: scipy.cluster: The symmetric non-negative hollow observation matrix looks suspiciously like an uncondensed distance matrix\n",
            "  out = hierarchy.linkage(X, method=linkage, metric=affinity)\n",
            "/Users/borisminasenko/opt/anaconda3/lib/python3.8/site-packages/sklearn/cluster/_agglomerative.py:492: ClusterWarning: scipy.cluster: The symmetric non-negative hollow observation matrix looks suspiciously like an uncondensed distance matrix\n",
            "  out = hierarchy.linkage(X, method=linkage, metric=affinity)\n",
            "/Users/borisminasenko/opt/anaconda3/lib/python3.8/site-packages/sklearn/cluster/_agglomerative.py:492: ClusterWarning: scipy.cluster: The symmetric non-negative hollow observation matrix looks suspiciously like an uncondensed distance matrix\n",
            "  out = hierarchy.linkage(X, method=linkage, metric=affinity)\n",
            "/Users/borisminasenko/opt/anaconda3/lib/python3.8/site-packages/sklearn/cluster/_agglomerative.py:492: ClusterWarning: scipy.cluster: The symmetric non-negative hollow observation matrix looks suspiciously like an uncondensed distance matrix\n",
            "  out = hierarchy.linkage(X, method=linkage, metric=affinity)\n",
            "/Users/borisminasenko/opt/anaconda3/lib/python3.8/site-packages/sklearn/cluster/_agglomerative.py:492: ClusterWarning: scipy.cluster: The symmetric non-negative hollow observation matrix looks suspiciously like an uncondensed distance matrix\n",
            "  out = hierarchy.linkage(X, method=linkage, metric=affinity)\n",
            "/Users/borisminasenko/opt/anaconda3/lib/python3.8/site-packages/sklearn/cluster/_agglomerative.py:492: ClusterWarning: scipy.cluster: The symmetric non-negative hollow observation matrix looks suspiciously like an uncondensed distance matrix\n",
            "  out = hierarchy.linkage(X, method=linkage, metric=affinity)\n",
            "/Users/borisminasenko/opt/anaconda3/lib/python3.8/site-packages/sklearn/cluster/_agglomerative.py:492: ClusterWarning: scipy.cluster: The symmetric non-negative hollow observation matrix looks suspiciously like an uncondensed distance matrix\n",
            "  out = hierarchy.linkage(X, method=linkage, metric=affinity)\n",
            "/Users/borisminasenko/opt/anaconda3/lib/python3.8/site-packages/sklearn/cluster/_agglomerative.py:492: ClusterWarning: scipy.cluster: The symmetric non-negative hollow observation matrix looks suspiciously like an uncondensed distance matrix\n",
            "  out = hierarchy.linkage(X, method=linkage, metric=affinity)\n",
            "/Users/borisminasenko/opt/anaconda3/lib/python3.8/site-packages/sklearn/cluster/_agglomerative.py:492: ClusterWarning: scipy.cluster: The symmetric non-negative hollow observation matrix looks suspiciously like an uncondensed distance matrix\n",
            "  out = hierarchy.linkage(X, method=linkage, metric=affinity)\n",
            "/Users/borisminasenko/opt/anaconda3/lib/python3.8/site-packages/sklearn/cluster/_agglomerative.py:492: ClusterWarning: scipy.cluster: The symmetric non-negative hollow observation matrix looks suspiciously like an uncondensed distance matrix\n",
            "  out = hierarchy.linkage(X, method=linkage, metric=affinity)\n",
            "/Users/borisminasenko/opt/anaconda3/lib/python3.8/site-packages/sklearn/cluster/_agglomerative.py:492: ClusterWarning: scipy.cluster: The symmetric non-negative hollow observation matrix looks suspiciously like an uncondensed distance matrix\n",
            "  out = hierarchy.linkage(X, method=linkage, metric=affinity)\n"
          ]
        }
      ],
      "source": [
        "com = []\n",
        "for i in range(2,50,4):\n",
        "    communities = AgglomerativeClustering(linkage='average', n_clusters = i)\n",
        "    X=similarity_matrix(G,nodelist=None)\n",
        "    communities.fit(X)\n",
        "    com.append(normalized_mutual_info_score(df['label'].values.astype('int'), communities.labels_))  "
      ]
    },
    {
      "cell_type": "code",
      "execution_count": null,
      "metadata": {
        "id": "4mMU2HL1nD3v",
        "outputId": "64247cc2-8ac8-4445-90d4-90512d447362",
        "scrolled": false
      },
      "outputs": [
        {
          "data": {
            "text/plain": [
              "[0.002300736638791333,\n",
              " 0.04629470811257215,\n",
              " 0.17021925143717995,\n",
              " 0.17428235477537765,\n",
              " 0.24411897717177758,\n",
              " 0.30907030575151395,\n",
              " 0.38693957293683845,\n",
              " 0.4245369170085096,\n",
              " 0.44066074633878183,\n",
              " 0.49747853853279894,\n",
              " 0.5030225661441611,\n",
              " 0.5108568575557129]"
            ]
          },
          "execution_count": 103,
          "metadata": {},
          "output_type": "execute_result"
        }
      ],
      "source": [
        "com"
      ]
    },
    {
      "cell_type": "markdown",
      "metadata": {
        "id": "_S3B4siFjeZ7"
      },
      "source": [
        "Разбиение оказывается более близким к истинному при увелечении кол-ва кластеров"
      ]
    },
    {
      "cell_type": "code",
      "execution_count": null,
      "metadata": {
        "id": "qP6G69manD3w"
      },
      "outputs": [],
      "source": []
    }
  ],
  "metadata": {
    "colab": {
      "provenance": []
    },
    "kernelspec": {
      "display_name": "Python 3",
      "language": "python",
      "name": "python3"
    },
    "language_info": {
      "codemirror_mode": {
        "name": "ipython",
        "version": 3
      },
      "file_extension": ".py",
      "mimetype": "text/x-python",
      "name": "python",
      "nbconvert_exporter": "python",
      "pygments_lexer": "ipython3",
      "version": "3.8.5"
    }
  },
  "nbformat": 4,
  "nbformat_minor": 0
}